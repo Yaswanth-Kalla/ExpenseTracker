{
 "cells": [
  {
   "cell_type": "code",
   "execution_count": null,
   "id": "75f15d62-2d61-4cd1-82d6-47a48752e31d",
   "metadata": {},
   "outputs": [],
   "source": [
    "import pandas as pd\n",
    "from xgboost import XGBRegressor\n",
    "from sklearn.metrics import mean_absolute_error, r2_score\n",
    "import calendar\n",
    "\n",
    "def predict():\n",
    "    model = XGBRegressor(objective='reg:squarederror', n_estimators=100, learning_rate=0.1, max_depth=5, random_state=42)\n",
    "    \n",
    "    predictions = {}\n",
    "    true_values = []\n",
    "    predicted_values = []\n",
    "\n",
    "    latest_year = global_df['Year'].max()\n",
    "    prediction_year = latest_year + 1\n",
    "\n",
    "    for month in range(1, 13):\n",
    "        month_data = global_df[global_df['Month'] == month]\n",
    "        if month_data.empty:\n",
    "            continue\n",
    "        \n",
    "        X = month_data[['Year']]\n",
    "        y = month_data['Monthly_Expenditure']\n",
    "        \n",
    "        model.fit(X, y)\n",
    "        \n",
    "        future_year = pd.DataFrame({'Year': [prediction_year]})\n",
    "        prediction = model.predict(future_year)[0]\n",
    "        \n",
    "        predictions[month] = prediction\n",
    "        predicted_values.append(prediction)\n",
    "        \n",
    "        if latest_year in month_data['Year'].values:\n",
    "            true_value = month_data[month_data['Year'] == latest_year]['Monthly_Expenditure'].values[0]\n",
    "            true_values.append(true_value)\n",
    "\n",
    "    predictions_df = pd.DataFrame(list(predictions.items()), columns=['Month', 'Predicted_Monthly_Expenditure'])\n",
    "    predictions_df['Month_Name'] = predictions_df['Month'].apply(lambda x: calendar.month_name[x])\n",
    "    predictions_df = predictions_df[['Month', 'Month_Name', 'Predicted_Monthly_Expenditure']]\n",
    "\n",
    "    '''if true_values:\n",
    "        mae = mean_absolute_error(true_values, predicted_values)\n",
    "        r2 = r2_score(true_values, predicted_values)\n",
    "        print(f'Mean Absolute Error: {mae}')\n",
    "        print(f'R-squared: {r2}')\n",
    "    else:\n",
    "        print(\"Insufficient data for evaluation.\")'''\n",
    "    \n",
    "    return predictions_df"
   ]
  }
 ],
 "metadata": {
  "kernelspec": {
   "display_name": "Python 3 (ipykernel)",
   "language": "python",
   "name": "python3"
  },
  "language_info": {
   "codemirror_mode": {
    "name": "ipython",
    "version": 3
   },
   "file_extension": ".py",
   "mimetype": "text/x-python",
   "name": "python",
   "nbconvert_exporter": "python",
   "pygments_lexer": "ipython3",
   "version": "3.11.7"
  }
 },
 "nbformat": 4,
 "nbformat_minor": 5
}
